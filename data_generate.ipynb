{
 "cells": [
  {
   "cell_type": "code",
   "execution_count": 29,
   "id": "initial_id",
   "metadata": {
    "collapsed": true,
    "ExecuteTime": {
     "end_time": "2024-12-05T21:30:18.893454Z",
     "start_time": "2024-12-05T21:30:18.890594Z"
    }
   },
   "outputs": [],
   "source": [
    "import pandas as pd\n",
    "import random"
   ]
  },
  {
   "cell_type": "code",
   "outputs": [],
   "source": [
    "df = pd.read_csv('clothing_data.csv')"
   ],
   "metadata": {
    "collapsed": false,
    "ExecuteTime": {
     "end_time": "2024-12-05T21:30:19.182153Z",
     "start_time": "2024-12-05T21:30:19.177296Z"
    }
   },
   "id": "3fb8d4f724d025ad",
   "execution_count": 30
  },
  {
   "cell_type": "code",
   "outputs": [
    {
     "data": {
      "text/plain": "  clothing_type   color  cotton  polyester  spandex  woll  ramie  nylon  \\\n0         shirt   white      60         40        0     0      0      0   \n1         shirt  violet     100          0        0     0      0      0   \n2         shirt   black     100          0        0     0      0      0   \n3         shirt   white     100          0        0     0      0      0   \n4         shirt   white     100          0        0     0      0      0   \n\n   rayon          brand      origin_country  pattern   seasonal  primary_use  \\\n0      0  david matthew               china   stripe       none  semi-formal   \n1      0            sdi                 usa  graphic       none       casual   \n2      0         gildan  dominican republic  graphic       none       casual   \n3      0         oneita             jamacia  graphic  halloween       casual   \n4      0     sun island             jamacia  graphic       none       casual   \n\n   stretchy  remove  \n0         0       1  \n1         0       1  \n2         0       1  \n3         0       1  \n4         0       1  ",
      "text/html": "<div>\n<style scoped>\n    .dataframe tbody tr th:only-of-type {\n        vertical-align: middle;\n    }\n\n    .dataframe tbody tr th {\n        vertical-align: top;\n    }\n\n    .dataframe thead th {\n        text-align: right;\n    }\n</style>\n<table border=\"1\" class=\"dataframe\">\n  <thead>\n    <tr style=\"text-align: right;\">\n      <th></th>\n      <th>clothing_type</th>\n      <th>color</th>\n      <th>cotton</th>\n      <th>polyester</th>\n      <th>spandex</th>\n      <th>woll</th>\n      <th>ramie</th>\n      <th>nylon</th>\n      <th>rayon</th>\n      <th>brand</th>\n      <th>origin_country</th>\n      <th>pattern</th>\n      <th>seasonal</th>\n      <th>primary_use</th>\n      <th>stretchy</th>\n      <th>remove</th>\n    </tr>\n  </thead>\n  <tbody>\n    <tr>\n      <th>0</th>\n      <td>shirt</td>\n      <td>white</td>\n      <td>60</td>\n      <td>40</td>\n      <td>0</td>\n      <td>0</td>\n      <td>0</td>\n      <td>0</td>\n      <td>0</td>\n      <td>david matthew</td>\n      <td>china</td>\n      <td>stripe</td>\n      <td>none</td>\n      <td>semi-formal</td>\n      <td>0</td>\n      <td>1</td>\n    </tr>\n    <tr>\n      <th>1</th>\n      <td>shirt</td>\n      <td>violet</td>\n      <td>100</td>\n      <td>0</td>\n      <td>0</td>\n      <td>0</td>\n      <td>0</td>\n      <td>0</td>\n      <td>0</td>\n      <td>sdi</td>\n      <td>usa</td>\n      <td>graphic</td>\n      <td>none</td>\n      <td>casual</td>\n      <td>0</td>\n      <td>1</td>\n    </tr>\n    <tr>\n      <th>2</th>\n      <td>shirt</td>\n      <td>black</td>\n      <td>100</td>\n      <td>0</td>\n      <td>0</td>\n      <td>0</td>\n      <td>0</td>\n      <td>0</td>\n      <td>0</td>\n      <td>gildan</td>\n      <td>dominican republic</td>\n      <td>graphic</td>\n      <td>none</td>\n      <td>casual</td>\n      <td>0</td>\n      <td>1</td>\n    </tr>\n    <tr>\n      <th>3</th>\n      <td>shirt</td>\n      <td>white</td>\n      <td>100</td>\n      <td>0</td>\n      <td>0</td>\n      <td>0</td>\n      <td>0</td>\n      <td>0</td>\n      <td>0</td>\n      <td>oneita</td>\n      <td>jamacia</td>\n      <td>graphic</td>\n      <td>halloween</td>\n      <td>casual</td>\n      <td>0</td>\n      <td>1</td>\n    </tr>\n    <tr>\n      <th>4</th>\n      <td>shirt</td>\n      <td>white</td>\n      <td>100</td>\n      <td>0</td>\n      <td>0</td>\n      <td>0</td>\n      <td>0</td>\n      <td>0</td>\n      <td>0</td>\n      <td>sun island</td>\n      <td>jamacia</td>\n      <td>graphic</td>\n      <td>none</td>\n      <td>casual</td>\n      <td>0</td>\n      <td>1</td>\n    </tr>\n  </tbody>\n</table>\n</div>"
     },
     "execution_count": 31,
     "metadata": {},
     "output_type": "execute_result"
    }
   ],
   "source": [
    "df.head()"
   ],
   "metadata": {
    "collapsed": false,
    "ExecuteTime": {
     "end_time": "2024-12-05T21:30:19.479765Z",
     "start_time": "2024-12-05T21:30:19.473802Z"
    }
   },
   "id": "5939065b4573714e",
   "execution_count": 31
  },
  {
   "cell_type": "code",
   "outputs": [
    {
     "ename": "KeyError",
     "evalue": "'wool'",
     "output_type": "error",
     "traceback": [
      "\u001B[1;31m---------------------------------------------------------------------------\u001B[0m",
      "\u001B[1;31mKeyError\u001B[0m                                  Traceback (most recent call last)",
      "File \u001B[1;32m~\\AppData\\Local\\anaconda3\\Lib\\site-packages\\pandas\\core\\indexes\\base.py:3805\u001B[0m, in \u001B[0;36mIndex.get_loc\u001B[1;34m(self, key)\u001B[0m\n\u001B[0;32m   3804\u001B[0m \u001B[38;5;28;01mtry\u001B[39;00m:\n\u001B[1;32m-> 3805\u001B[0m     \u001B[38;5;28;01mreturn\u001B[39;00m \u001B[38;5;28mself\u001B[39m\u001B[38;5;241m.\u001B[39m_engine\u001B[38;5;241m.\u001B[39mget_loc(casted_key)\n\u001B[0;32m   3806\u001B[0m \u001B[38;5;28;01mexcept\u001B[39;00m \u001B[38;5;167;01mKeyError\u001B[39;00m \u001B[38;5;28;01mas\u001B[39;00m err:\n",
      "File \u001B[1;32mindex.pyx:167\u001B[0m, in \u001B[0;36mpandas._libs.index.IndexEngine.get_loc\u001B[1;34m()\u001B[0m\n",
      "File \u001B[1;32mindex.pyx:196\u001B[0m, in \u001B[0;36mpandas._libs.index.IndexEngine.get_loc\u001B[1;34m()\u001B[0m\n",
      "File \u001B[1;32mpandas\\\\_libs\\\\hashtable_class_helper.pxi:7081\u001B[0m, in \u001B[0;36mpandas._libs.hashtable.PyObjectHashTable.get_item\u001B[1;34m()\u001B[0m\n",
      "File \u001B[1;32mpandas\\\\_libs\\\\hashtable_class_helper.pxi:7089\u001B[0m, in \u001B[0;36mpandas._libs.hashtable.PyObjectHashTable.get_item\u001B[1;34m()\u001B[0m\n",
      "\u001B[1;31mKeyError\u001B[0m: 'wool'",
      "\nThe above exception was the direct cause of the following exception:\n",
      "\u001B[1;31mKeyError\u001B[0m                                  Traceback (most recent call last)",
      "Cell \u001B[1;32mIn[32], line 54\u001B[0m\n\u001B[0;32m     51\u001B[0m     \u001B[38;5;28;01mreturn\u001B[39;00m new_row\n\u001B[0;32m     53\u001B[0m \u001B[38;5;66;03m# Generate new rows and append to the DataFrame\u001B[39;00m\n\u001B[1;32m---> 54\u001B[0m new_rows \u001B[38;5;241m=\u001B[39m [generate_random_row(df) \u001B[38;5;28;01mfor\u001B[39;00m _ \u001B[38;5;129;01min\u001B[39;00m \u001B[38;5;28mrange\u001B[39m(num_new_rows)]\n\u001B[0;32m     55\u001B[0m new_df \u001B[38;5;241m=\u001B[39m pd\u001B[38;5;241m.\u001B[39mDataFrame(new_rows)\n\u001B[0;32m     56\u001B[0m out_df \u001B[38;5;241m=\u001B[39m pd\u001B[38;5;241m.\u001B[39mconcat([df, new_df], ignore_index\u001B[38;5;241m=\u001B[39m\u001B[38;5;28;01mTrue\u001B[39;00m)\n",
      "Cell \u001B[1;32mIn[32], line 54\u001B[0m, in \u001B[0;36m<listcomp>\u001B[1;34m(.0)\u001B[0m\n\u001B[0;32m     51\u001B[0m     \u001B[38;5;28;01mreturn\u001B[39;00m new_row\n\u001B[0;32m     53\u001B[0m \u001B[38;5;66;03m# Generate new rows and append to the DataFrame\u001B[39;00m\n\u001B[1;32m---> 54\u001B[0m new_rows \u001B[38;5;241m=\u001B[39m [generate_random_row(df) \u001B[38;5;28;01mfor\u001B[39;00m _ \u001B[38;5;129;01min\u001B[39;00m \u001B[38;5;28mrange\u001B[39m(num_new_rows)]\n\u001B[0;32m     55\u001B[0m new_df \u001B[38;5;241m=\u001B[39m pd\u001B[38;5;241m.\u001B[39mDataFrame(new_rows)\n\u001B[0;32m     56\u001B[0m out_df \u001B[38;5;241m=\u001B[39m pd\u001B[38;5;241m.\u001B[39mconcat([df, new_df], ignore_index\u001B[38;5;241m=\u001B[39m\u001B[38;5;28;01mTrue\u001B[39;00m)\n",
      "Cell \u001B[1;32mIn[32], line 32\u001B[0m, in \u001B[0;36mgenerate_random_row\u001B[1;34m(df)\u001B[0m\n\u001B[0;32m     23\u001B[0m     origin_country \u001B[38;5;241m=\u001B[39m random\u001B[38;5;241m.\u001B[39mchoice(brand_rows[\u001B[38;5;124m'\u001B[39m\u001B[38;5;124morigin_country\u001B[39m\u001B[38;5;124m'\u001B[39m]\u001B[38;5;241m.\u001B[39mdropna()\u001B[38;5;241m.\u001B[39munique())\n\u001B[0;32m     25\u001B[0m \u001B[38;5;66;03m# Generate the new row\u001B[39;00m\n\u001B[0;32m     26\u001B[0m new_row \u001B[38;5;241m=\u001B[39m {\n\u001B[0;32m     27\u001B[0m     \u001B[38;5;124m'\u001B[39m\u001B[38;5;124mclothing_type\u001B[39m\u001B[38;5;124m'\u001B[39m: random\u001B[38;5;241m.\u001B[39mchoices(selection_criteria[\u001B[38;5;124m'\u001B[39m\u001B[38;5;124mClothing Type\u001B[39m\u001B[38;5;124m'\u001B[39m][\u001B[38;5;124m'\u001B[39m\u001B[38;5;124mvalues\u001B[39m\u001B[38;5;124m'\u001B[39m], weights\u001B[38;5;241m=\u001B[39mselection_criteria[\u001B[38;5;124m'\u001B[39m\u001B[38;5;124mClothing Type\u001B[39m\u001B[38;5;124m'\u001B[39m][\u001B[38;5;124m'\u001B[39m\u001B[38;5;124mweights\u001B[39m\u001B[38;5;124m'\u001B[39m], k\u001B[38;5;241m=\u001B[39m\u001B[38;5;241m1\u001B[39m)[\u001B[38;5;241m0\u001B[39m],\n\u001B[0;32m     28\u001B[0m     \u001B[38;5;124m'\u001B[39m\u001B[38;5;124mcolor\u001B[39m\u001B[38;5;124m'\u001B[39m: random\u001B[38;5;241m.\u001B[39mchoices(selection_criteria[\u001B[38;5;124m'\u001B[39m\u001B[38;5;124mColor\u001B[39m\u001B[38;5;124m'\u001B[39m][\u001B[38;5;124m'\u001B[39m\u001B[38;5;124mvalues\u001B[39m\u001B[38;5;124m'\u001B[39m], weights\u001B[38;5;241m=\u001B[39mselection_criteria[\u001B[38;5;124m'\u001B[39m\u001B[38;5;124mColor\u001B[39m\u001B[38;5;124m'\u001B[39m][\u001B[38;5;124m'\u001B[39m\u001B[38;5;124mweights\u001B[39m\u001B[38;5;124m'\u001B[39m], k\u001B[38;5;241m=\u001B[39m\u001B[38;5;241m1\u001B[39m)[\u001B[38;5;241m0\u001B[39m],\n\u001B[0;32m     29\u001B[0m     \u001B[38;5;124m'\u001B[39m\u001B[38;5;124mcotton\u001B[39m\u001B[38;5;124m'\u001B[39m: existing_row[\u001B[38;5;124m'\u001B[39m\u001B[38;5;124mcotton\u001B[39m\u001B[38;5;124m'\u001B[39m],\n\u001B[0;32m     30\u001B[0m     \u001B[38;5;124m'\u001B[39m\u001B[38;5;124mpolyester\u001B[39m\u001B[38;5;124m'\u001B[39m: existing_row[\u001B[38;5;124m'\u001B[39m\u001B[38;5;124mpolyester\u001B[39m\u001B[38;5;124m'\u001B[39m],\n\u001B[0;32m     31\u001B[0m     \u001B[38;5;124m'\u001B[39m\u001B[38;5;124mspandex\u001B[39m\u001B[38;5;124m'\u001B[39m: existing_row[\u001B[38;5;124m'\u001B[39m\u001B[38;5;124mspandex\u001B[39m\u001B[38;5;124m'\u001B[39m],\n\u001B[1;32m---> 32\u001B[0m     \u001B[38;5;124m'\u001B[39m\u001B[38;5;124mwool\u001B[39m\u001B[38;5;124m'\u001B[39m: existing_row[\u001B[38;5;124m'\u001B[39m\u001B[38;5;124mwool\u001B[39m\u001B[38;5;124m'\u001B[39m],\n\u001B[0;32m     33\u001B[0m     \u001B[38;5;124m'\u001B[39m\u001B[38;5;124mramie\u001B[39m\u001B[38;5;124m'\u001B[39m: existing_row[\u001B[38;5;124m'\u001B[39m\u001B[38;5;124mramie\u001B[39m\u001B[38;5;124m'\u001B[39m],\n\u001B[0;32m     34\u001B[0m     \u001B[38;5;124m'\u001B[39m\u001B[38;5;124mnylon\u001B[39m\u001B[38;5;124m'\u001B[39m: existing_row[\u001B[38;5;124m'\u001B[39m\u001B[38;5;124mnylon\u001B[39m\u001B[38;5;124m'\u001B[39m],\n\u001B[0;32m     35\u001B[0m     \u001B[38;5;124m'\u001B[39m\u001B[38;5;124mrayon\u001B[39m\u001B[38;5;124m'\u001B[39m: existing_row[\u001B[38;5;124m'\u001B[39m\u001B[38;5;124mrayon\u001B[39m\u001B[38;5;124m'\u001B[39m],\n\u001B[0;32m     36\u001B[0m     \u001B[38;5;124m'\u001B[39m\u001B[38;5;124mbrand\u001B[39m\u001B[38;5;124m'\u001B[39m: brand,\n\u001B[0;32m     37\u001B[0m     \u001B[38;5;124m'\u001B[39m\u001B[38;5;124morigin_country\u001B[39m\u001B[38;5;124m'\u001B[39m: origin_country,\n\u001B[0;32m     38\u001B[0m     \u001B[38;5;124m'\u001B[39m\u001B[38;5;124mpattern\u001B[39m\u001B[38;5;124m'\u001B[39m: random\u001B[38;5;241m.\u001B[39mchoices(selection_criteria[\u001B[38;5;124m'\u001B[39m\u001B[38;5;124mPattern\u001B[39m\u001B[38;5;124m'\u001B[39m][\u001B[38;5;124m'\u001B[39m\u001B[38;5;124mvalues\u001B[39m\u001B[38;5;124m'\u001B[39m], weights\u001B[38;5;241m=\u001B[39mselection_criteria[\u001B[38;5;124m'\u001B[39m\u001B[38;5;124mPattern\u001B[39m\u001B[38;5;124m'\u001B[39m][\u001B[38;5;124m'\u001B[39m\u001B[38;5;124mweights\u001B[39m\u001B[38;5;124m'\u001B[39m], k\u001B[38;5;241m=\u001B[39m\u001B[38;5;241m1\u001B[39m)[\u001B[38;5;241m0\u001B[39m],\n\u001B[0;32m     39\u001B[0m     \u001B[38;5;124m'\u001B[39m\u001B[38;5;124mseasonal\u001B[39m\u001B[38;5;124m'\u001B[39m: random\u001B[38;5;241m.\u001B[39mchoices(selection_criteria[\u001B[38;5;124m'\u001B[39m\u001B[38;5;124mSeasonal\u001B[39m\u001B[38;5;124m'\u001B[39m][\u001B[38;5;124m'\u001B[39m\u001B[38;5;124mvalues\u001B[39m\u001B[38;5;124m'\u001B[39m], weights\u001B[38;5;241m=\u001B[39mselection_criteria[\u001B[38;5;124m'\u001B[39m\u001B[38;5;124mSeasonal\u001B[39m\u001B[38;5;124m'\u001B[39m][\u001B[38;5;124m'\u001B[39m\u001B[38;5;124mweights\u001B[39m\u001B[38;5;124m'\u001B[39m], k\u001B[38;5;241m=\u001B[39m\u001B[38;5;241m1\u001B[39m)[\u001B[38;5;241m0\u001B[39m],\n\u001B[0;32m     40\u001B[0m     \u001B[38;5;124m'\u001B[39m\u001B[38;5;124mprimary_use\u001B[39m\u001B[38;5;124m'\u001B[39m: random\u001B[38;5;241m.\u001B[39mchoices(selection_criteria[\u001B[38;5;124m'\u001B[39m\u001B[38;5;124mPrimary Use\u001B[39m\u001B[38;5;124m'\u001B[39m][\u001B[38;5;124m'\u001B[39m\u001B[38;5;124mvalues\u001B[39m\u001B[38;5;124m'\u001B[39m], weights\u001B[38;5;241m=\u001B[39mselection_criteria[\u001B[38;5;124m'\u001B[39m\u001B[38;5;124mPrimary Use\u001B[39m\u001B[38;5;124m'\u001B[39m][\u001B[38;5;124m'\u001B[39m\u001B[38;5;124mweights\u001B[39m\u001B[38;5;124m'\u001B[39m], k\u001B[38;5;241m=\u001B[39m\u001B[38;5;241m1\u001B[39m)[\u001B[38;5;241m0\u001B[39m],\n\u001B[0;32m     41\u001B[0m     \u001B[38;5;124m'\u001B[39m\u001B[38;5;124mstretchy\u001B[39m\u001B[38;5;124m'\u001B[39m: \u001B[38;5;241m0\u001B[39m,\n\u001B[0;32m     42\u001B[0m     \u001B[38;5;124m'\u001B[39m\u001B[38;5;124mremove\u001B[39m\u001B[38;5;124m'\u001B[39m: random\u001B[38;5;241m.\u001B[39mrandint(\u001B[38;5;241m0\u001B[39m, \u001B[38;5;241m1\u001B[39m)\n\u001B[0;32m     43\u001B[0m }\n\u001B[0;32m     45\u001B[0m new_row[\u001B[38;5;124m'\u001B[39m\u001B[38;5;124mstretchy\u001B[39m\u001B[38;5;124m'\u001B[39m] \u001B[38;5;241m=\u001B[39m random\u001B[38;5;241m.\u001B[39mchoices([\u001B[38;5;241m0\u001B[39m, \u001B[38;5;241m1\u001B[39m], weights\u001B[38;5;241m=\u001B[39m[\u001B[38;5;241m9\u001B[39m, \u001B[38;5;241m1\u001B[39m] \u001B[38;5;28;01mif\u001B[39;00m new_row[\u001B[38;5;124m'\u001B[39m\u001B[38;5;124mPrimary Use\u001B[39m\u001B[38;5;124m'\u001B[39m] \u001B[38;5;129;01min\u001B[39;00m [\u001B[38;5;124m'\u001B[39m\u001B[38;5;124mformal\u001B[39m\u001B[38;5;124m'\u001B[39m, \u001B[38;5;124m'\u001B[39m\u001B[38;5;124msemi-formal\u001B[39m\u001B[38;5;124m'\u001B[39m] \u001B[38;5;28;01melse\u001B[39;00m [\u001B[38;5;241m1\u001B[39m, \u001B[38;5;241m1\u001B[39m], k\u001B[38;5;241m=\u001B[39m\u001B[38;5;241m1\u001B[39m)[\u001B[38;5;241m0\u001B[39m]\n\u001B[0;32m     47\u001B[0m \u001B[38;5;66;03m# Ensure that if the clothing type is jacket, the primary use is warmth\u001B[39;00m\n",
      "File \u001B[1;32m~\\AppData\\Local\\anaconda3\\Lib\\site-packages\\pandas\\core\\series.py:1121\u001B[0m, in \u001B[0;36mSeries.__getitem__\u001B[1;34m(self, key)\u001B[0m\n\u001B[0;32m   1118\u001B[0m     \u001B[38;5;28;01mreturn\u001B[39;00m \u001B[38;5;28mself\u001B[39m\u001B[38;5;241m.\u001B[39m_values[key]\n\u001B[0;32m   1120\u001B[0m \u001B[38;5;28;01melif\u001B[39;00m key_is_scalar:\n\u001B[1;32m-> 1121\u001B[0m     \u001B[38;5;28;01mreturn\u001B[39;00m \u001B[38;5;28mself\u001B[39m\u001B[38;5;241m.\u001B[39m_get_value(key)\n\u001B[0;32m   1123\u001B[0m \u001B[38;5;66;03m# Convert generator to list before going through hashable part\u001B[39;00m\n\u001B[0;32m   1124\u001B[0m \u001B[38;5;66;03m# (We will iterate through the generator there to check for slices)\u001B[39;00m\n\u001B[0;32m   1125\u001B[0m \u001B[38;5;28;01mif\u001B[39;00m is_iterator(key):\n",
      "File \u001B[1;32m~\\AppData\\Local\\anaconda3\\Lib\\site-packages\\pandas\\core\\series.py:1237\u001B[0m, in \u001B[0;36mSeries._get_value\u001B[1;34m(self, label, takeable)\u001B[0m\n\u001B[0;32m   1234\u001B[0m     \u001B[38;5;28;01mreturn\u001B[39;00m \u001B[38;5;28mself\u001B[39m\u001B[38;5;241m.\u001B[39m_values[label]\n\u001B[0;32m   1236\u001B[0m \u001B[38;5;66;03m# Similar to Index.get_value, but we do not fall back to positional\u001B[39;00m\n\u001B[1;32m-> 1237\u001B[0m loc \u001B[38;5;241m=\u001B[39m \u001B[38;5;28mself\u001B[39m\u001B[38;5;241m.\u001B[39mindex\u001B[38;5;241m.\u001B[39mget_loc(label)\n\u001B[0;32m   1239\u001B[0m \u001B[38;5;28;01mif\u001B[39;00m is_integer(loc):\n\u001B[0;32m   1240\u001B[0m     \u001B[38;5;28;01mreturn\u001B[39;00m \u001B[38;5;28mself\u001B[39m\u001B[38;5;241m.\u001B[39m_values[loc]\n",
      "File \u001B[1;32m~\\AppData\\Local\\anaconda3\\Lib\\site-packages\\pandas\\core\\indexes\\base.py:3812\u001B[0m, in \u001B[0;36mIndex.get_loc\u001B[1;34m(self, key)\u001B[0m\n\u001B[0;32m   3807\u001B[0m     \u001B[38;5;28;01mif\u001B[39;00m \u001B[38;5;28misinstance\u001B[39m(casted_key, \u001B[38;5;28mslice\u001B[39m) \u001B[38;5;129;01mor\u001B[39;00m (\n\u001B[0;32m   3808\u001B[0m         \u001B[38;5;28misinstance\u001B[39m(casted_key, abc\u001B[38;5;241m.\u001B[39mIterable)\n\u001B[0;32m   3809\u001B[0m         \u001B[38;5;129;01mand\u001B[39;00m \u001B[38;5;28many\u001B[39m(\u001B[38;5;28misinstance\u001B[39m(x, \u001B[38;5;28mslice\u001B[39m) \u001B[38;5;28;01mfor\u001B[39;00m x \u001B[38;5;129;01min\u001B[39;00m casted_key)\n\u001B[0;32m   3810\u001B[0m     ):\n\u001B[0;32m   3811\u001B[0m         \u001B[38;5;28;01mraise\u001B[39;00m InvalidIndexError(key)\n\u001B[1;32m-> 3812\u001B[0m     \u001B[38;5;28;01mraise\u001B[39;00m \u001B[38;5;167;01mKeyError\u001B[39;00m(key) \u001B[38;5;28;01mfrom\u001B[39;00m \u001B[38;5;21;01merr\u001B[39;00m\n\u001B[0;32m   3813\u001B[0m \u001B[38;5;28;01mexcept\u001B[39;00m \u001B[38;5;167;01mTypeError\u001B[39;00m:\n\u001B[0;32m   3814\u001B[0m     \u001B[38;5;66;03m# If we have a listlike key, _check_indexing_error will raise\u001B[39;00m\n\u001B[0;32m   3815\u001B[0m     \u001B[38;5;66;03m#  InvalidIndexError. Otherwise we fall through and re-raise\u001B[39;00m\n\u001B[0;32m   3816\u001B[0m     \u001B[38;5;66;03m#  the TypeError.\u001B[39;00m\n\u001B[0;32m   3817\u001B[0m     \u001B[38;5;28mself\u001B[39m\u001B[38;5;241m.\u001B[39m_check_indexing_error(key)\n",
      "\u001B[1;31mKeyError\u001B[0m: 'wool'"
     ]
    }
   ],
   "source": [
    "# Define the number of new rows you want to add\n",
    "num_new_rows = 100\n",
    "\n",
    "# Define lists for columns that need random selection from lists\n",
    "selection_criteria = {\n",
    "    'Clothing Type': {'values': ['shirt', 'pant', 'dress', 'skirt', 'jacket', 'socks'], 'weights': [5, 7, 2, 1, 1, 1]},\n",
    "    'Color': {'values': ['white', 'black', 'blue', 'red', 'orange', 'yellow', 'green', 'violet', 'brown', 'gray', 'indigo', 'tan'], 'weights': None},\n",
    "    'Pattern': {'values': ['dot', 'stripe', 'plaid', 'none', 'graphic', 'print', 'geometric', 'other', 'floral', 'text'], 'weights': [1, 1, 1, 2, 2, 5, 1, 2, 1, 1]},\n",
    "    'Seasonal': {'values': ['christmas', 'halloween', 'st patricks day', 'patriotic', 'winter', 'fall', 'spring', 'other', 'none'], 'weights': [1, 1, 1, 1, 1, 1, 1, 1, 10]},\n",
    "    'Primary Use': {'values': ['activewear', 'loungewear', 'sleepwear', 'formal', 'semi-formal', 'warmth', 'other', 'casual'], 'weights': [3, 1, 1, 3, 2, 1, 1, 10]}\n",
    "}\n",
    "\n",
    "# Function to generate random data for new rows\n",
    "def generate_random_row(df):\n",
    "    existing_row = df.sample(n=1).iloc[0]\n",
    "    \n",
    "    # Select a random brand and determine the origin country based on previous occurrences\n",
    "    brand = random.choice(df['brand'].dropna().unique())\n",
    "    brand_rows = df[df['brand'] == brand]\n",
    "    if len(brand_rows) == 1:\n",
    "        origin_country = brand_rows.iloc[0]['origin_country']\n",
    "    else:\n",
    "        origin_country = random.choice(brand_rows['origin_country'].dropna().unique())\n",
    "    \n",
    "    # Generate the new row\n",
    "    new_row = {\n",
    "        'clothing_type': random.choices(selection_criteria['Clothing Type']['values'], weights=selection_criteria['Clothing Type']['weights'], k=1)[0],\n",
    "        'color': random.choices(selection_criteria['Color']['values'], weights=selection_criteria['Color']['weights'], k=1)[0],\n",
    "        'cotton': existing_row['cotton'],\n",
    "        'polyester': existing_row['polyester'],\n",
    "        'spandex': existing_row['spandex'],\n",
    "        'wool': existing_row['wool'],\n",
    "        'ramie': existing_row['ramie'],\n",
    "        'nylon': existing_row['nylon'],\n",
    "        'rayon': existing_row['rayon'],\n",
    "        'brand': brand,\n",
    "        'origin_country': origin_country,\n",
    "        'pattern': random.choices(selection_criteria['Pattern']['values'], weights=selection_criteria['Pattern']['weights'], k=1)[0],\n",
    "        'seasonal': random.choices(selection_criteria['Seasonal']['values'], weights=selection_criteria['Seasonal']['weights'], k=1)[0],\n",
    "        'primary_use': random.choices(selection_criteria['Primary Use']['values'], weights=selection_criteria['Primary Use']['weights'], k=1)[0],\n",
    "        'stretchy': 0,\n",
    "        'remove': random.randint(0, 1)\n",
    "    }\n",
    "    \n",
    "    new_row['stretchy'] = random.choices([0, 1], weights=[9, 1] if new_row['Primary Use'] in ['formal', 'semi-formal'] else [1, 1], k=1)[0]\n",
    "    \n",
    "    # Ensure that if the clothing type is jacket, the primary use is warmth\n",
    "    if new_row['Clothing Type'] == 'jacket':\n",
    "        new_row['Primary Use'] = 'warmth'\n",
    "    \n",
    "    return new_row\n",
    "\n",
    "# Generate new rows and append to the DataFrame\n",
    "new_rows = [generate_random_row(df) for _ in range(num_new_rows)]\n",
    "new_df = pd.DataFrame(new_rows)\n",
    "out_df = pd.concat([df, new_df], ignore_index=True)\n",
    "out_df.to_csv('clothing_data.csv')"
   ],
   "metadata": {
    "collapsed": false,
    "ExecuteTime": {
     "end_time": "2024-12-05T21:30:20.216999Z",
     "start_time": "2024-12-05T21:30:20.086640Z"
    }
   },
   "id": "2fdf4f4412bdec2b",
   "execution_count": 32
  },
  {
   "cell_type": "code",
   "outputs": [
    {
     "data": {
      "text/plain": "   Clothing Type   Color  % Cotton  % Polyester  % Spandex  % Wool  % Ramie  \\\n0           pant  indigo       100            0          0       0        0   \n1         jacket    blue         0           90          0       0        0   \n2          shirt  orange         0           90         10       0        0   \n3          shirt     tan         0          100          0       0        0   \n4           pant  orange         0          100          0       0        0   \n..           ...     ...       ...          ...        ...     ...      ...   \n95          pant     red        95            0          5       0        0   \n96         shirt    gray       100            0          0       0        0   \n97         dress  orange       100            0          0       0        0   \n98         dress   white        95            0          5       0        0   \n99          pant    gray       100            0          0       0        0   \n\n    % Nylon  % Rayon          Brand Origin Country  Pattern   Seasonal  \\\n0         0        0           sage          china    plaid       none   \n1        10        0  terra and sky       cambodia    print  patriotic   \n2         0        0  david matthew          China    print  christmas   \n3         0        0       cherokee     bangladesh     none       fall   \n4         0        0         marlis          korea   stripe       none   \n..      ...      ...            ...            ...      ...        ...   \n95        0        0     northcrest      hong kong   stripe  christmas   \n96        0        0         george      indonesia    print  christmas   \n97        0        0     celebrate!          china  graphic      other   \n98        0        0   st johns bay       pakistan    print       none   \n99        0        0         gildan       honduras    other       none   \n\n   Primary Use  stretchy  remove  \n0   activewear         1       0  \n1       warmth         1       0  \n2       casual         0       0  \n3        other         0       1  \n4   loungewear         1       0  \n..         ...       ...     ...  \n95  activewear         1       1  \n96      casual         1       1  \n97      casual         1       1  \n98      casual         1       1  \n99      casual         1       0  \n\n[100 rows x 16 columns]",
      "text/html": "<div>\n<style scoped>\n    .dataframe tbody tr th:only-of-type {\n        vertical-align: middle;\n    }\n\n    .dataframe tbody tr th {\n        vertical-align: top;\n    }\n\n    .dataframe thead th {\n        text-align: right;\n    }\n</style>\n<table border=\"1\" class=\"dataframe\">\n  <thead>\n    <tr style=\"text-align: right;\">\n      <th></th>\n      <th>Clothing Type</th>\n      <th>Color</th>\n      <th>% Cotton</th>\n      <th>% Polyester</th>\n      <th>% Spandex</th>\n      <th>% Wool</th>\n      <th>% Ramie</th>\n      <th>% Nylon</th>\n      <th>% Rayon</th>\n      <th>Brand</th>\n      <th>Origin Country</th>\n      <th>Pattern</th>\n      <th>Seasonal</th>\n      <th>Primary Use</th>\n      <th>stretchy</th>\n      <th>remove</th>\n    </tr>\n  </thead>\n  <tbody>\n    <tr>\n      <th>0</th>\n      <td>pant</td>\n      <td>indigo</td>\n      <td>100</td>\n      <td>0</td>\n      <td>0</td>\n      <td>0</td>\n      <td>0</td>\n      <td>0</td>\n      <td>0</td>\n      <td>sage</td>\n      <td>china</td>\n      <td>plaid</td>\n      <td>none</td>\n      <td>activewear</td>\n      <td>1</td>\n      <td>0</td>\n    </tr>\n    <tr>\n      <th>1</th>\n      <td>jacket</td>\n      <td>blue</td>\n      <td>0</td>\n      <td>90</td>\n      <td>0</td>\n      <td>0</td>\n      <td>0</td>\n      <td>10</td>\n      <td>0</td>\n      <td>terra and sky</td>\n      <td>cambodia</td>\n      <td>print</td>\n      <td>patriotic</td>\n      <td>warmth</td>\n      <td>1</td>\n      <td>0</td>\n    </tr>\n    <tr>\n      <th>2</th>\n      <td>shirt</td>\n      <td>orange</td>\n      <td>0</td>\n      <td>90</td>\n      <td>10</td>\n      <td>0</td>\n      <td>0</td>\n      <td>0</td>\n      <td>0</td>\n      <td>david matthew</td>\n      <td>China</td>\n      <td>print</td>\n      <td>christmas</td>\n      <td>casual</td>\n      <td>0</td>\n      <td>0</td>\n    </tr>\n    <tr>\n      <th>3</th>\n      <td>shirt</td>\n      <td>tan</td>\n      <td>0</td>\n      <td>100</td>\n      <td>0</td>\n      <td>0</td>\n      <td>0</td>\n      <td>0</td>\n      <td>0</td>\n      <td>cherokee</td>\n      <td>bangladesh</td>\n      <td>none</td>\n      <td>fall</td>\n      <td>other</td>\n      <td>0</td>\n      <td>1</td>\n    </tr>\n    <tr>\n      <th>4</th>\n      <td>pant</td>\n      <td>orange</td>\n      <td>0</td>\n      <td>100</td>\n      <td>0</td>\n      <td>0</td>\n      <td>0</td>\n      <td>0</td>\n      <td>0</td>\n      <td>marlis</td>\n      <td>korea</td>\n      <td>stripe</td>\n      <td>none</td>\n      <td>loungewear</td>\n      <td>1</td>\n      <td>0</td>\n    </tr>\n    <tr>\n      <th>...</th>\n      <td>...</td>\n      <td>...</td>\n      <td>...</td>\n      <td>...</td>\n      <td>...</td>\n      <td>...</td>\n      <td>...</td>\n      <td>...</td>\n      <td>...</td>\n      <td>...</td>\n      <td>...</td>\n      <td>...</td>\n      <td>...</td>\n      <td>...</td>\n      <td>...</td>\n      <td>...</td>\n    </tr>\n    <tr>\n      <th>95</th>\n      <td>pant</td>\n      <td>red</td>\n      <td>95</td>\n      <td>0</td>\n      <td>5</td>\n      <td>0</td>\n      <td>0</td>\n      <td>0</td>\n      <td>0</td>\n      <td>northcrest</td>\n      <td>hong kong</td>\n      <td>stripe</td>\n      <td>christmas</td>\n      <td>activewear</td>\n      <td>1</td>\n      <td>1</td>\n    </tr>\n    <tr>\n      <th>96</th>\n      <td>shirt</td>\n      <td>gray</td>\n      <td>100</td>\n      <td>0</td>\n      <td>0</td>\n      <td>0</td>\n      <td>0</td>\n      <td>0</td>\n      <td>0</td>\n      <td>george</td>\n      <td>indonesia</td>\n      <td>print</td>\n      <td>christmas</td>\n      <td>casual</td>\n      <td>1</td>\n      <td>1</td>\n    </tr>\n    <tr>\n      <th>97</th>\n      <td>dress</td>\n      <td>orange</td>\n      <td>100</td>\n      <td>0</td>\n      <td>0</td>\n      <td>0</td>\n      <td>0</td>\n      <td>0</td>\n      <td>0</td>\n      <td>celebrate!</td>\n      <td>china</td>\n      <td>graphic</td>\n      <td>other</td>\n      <td>casual</td>\n      <td>1</td>\n      <td>1</td>\n    </tr>\n    <tr>\n      <th>98</th>\n      <td>dress</td>\n      <td>white</td>\n      <td>95</td>\n      <td>0</td>\n      <td>5</td>\n      <td>0</td>\n      <td>0</td>\n      <td>0</td>\n      <td>0</td>\n      <td>st johns bay</td>\n      <td>pakistan</td>\n      <td>print</td>\n      <td>none</td>\n      <td>casual</td>\n      <td>1</td>\n      <td>1</td>\n    </tr>\n    <tr>\n      <th>99</th>\n      <td>pant</td>\n      <td>gray</td>\n      <td>100</td>\n      <td>0</td>\n      <td>0</td>\n      <td>0</td>\n      <td>0</td>\n      <td>0</td>\n      <td>0</td>\n      <td>gildan</td>\n      <td>honduras</td>\n      <td>other</td>\n      <td>none</td>\n      <td>casual</td>\n      <td>1</td>\n      <td>0</td>\n    </tr>\n  </tbody>\n</table>\n<p>100 rows × 16 columns</p>\n</div>"
     },
     "execution_count": 20,
     "metadata": {},
     "output_type": "execute_result"
    }
   ],
   "source": [
    "new_df"
   ],
   "metadata": {
    "collapsed": false,
    "ExecuteTime": {
     "end_time": "2024-12-05T19:07:36.577757Z",
     "start_time": "2024-12-05T19:07:36.569722Z"
    }
   },
   "id": "a499c4ec7a90b3e2",
   "execution_count": 20
  },
  {
   "cell_type": "code",
   "outputs": [],
   "source": [],
   "metadata": {
    "collapsed": false
   },
   "id": "61ae12722289b87b"
  }
 ],
 "metadata": {
  "kernelspec": {
   "display_name": "Python 3",
   "language": "python",
   "name": "python3"
  },
  "language_info": {
   "codemirror_mode": {
    "name": "ipython",
    "version": 2
   },
   "file_extension": ".py",
   "mimetype": "text/x-python",
   "name": "python",
   "nbconvert_exporter": "python",
   "pygments_lexer": "ipython2",
   "version": "2.7.6"
  }
 },
 "nbformat": 4,
 "nbformat_minor": 5
}
